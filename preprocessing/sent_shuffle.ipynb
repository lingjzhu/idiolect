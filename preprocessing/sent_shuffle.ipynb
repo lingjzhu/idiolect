{
 "cells": [
  {
   "cell_type": "code",
   "execution_count": 1,
   "metadata": {},
   "outputs": [
    {
     "name": "stderr",
     "output_type": "stream",
     "text": [
      "None of PyTorch, TensorFlow >= 2.0, or Flax have been found. Models won't be available and only tokenizers, configuration and file/data utilities can be used.\n"
     ]
    }
   ],
   "source": [
    "import os\n",
    "import re\n",
    "import numpy as np\n",
    "import transformers\n",
    "import spacy\n",
    "from sklearn.utils import shuffle\n",
    "from spacy.lang.en import English\n",
    "from tqdm import tqdm"
   ]
  },
  {
   "cell_type": "code",
   "execution_count": 2,
   "metadata": {},
   "outputs": [],
   "source": [
    "tokenizer = transformers.AutoTokenizer.from_pretrained('roberta-base')"
   ]
  },
  {
   "cell_type": "code",
   "execution_count": 3,
   "metadata": {},
   "outputs": [],
   "source": [
    "file = open('/gpfs/accounts/lingjzhu_root/lingjzhu1/lingjzhu/authorship/tr-samples_contrastive')"
   ]
  },
  {
   "cell_type": "code",
   "execution_count": 4,
   "metadata": {},
   "outputs": [],
   "source": [
    "line = file.readline().strip().split('\\t\\t')"
   ]
  },
  {
   "cell_type": "code",
   "execution_count": 3,
   "metadata": {},
   "outputs": [
    {
     "data": {
      "text/plain": [
       "'3.0.6'"
      ]
     },
     "execution_count": 3,
     "metadata": {},
     "output_type": "execute_result"
    }
   ],
   "source": [
    "spacy.__version__"
   ]
  },
  {
   "cell_type": "code",
   "execution_count": 26,
   "metadata": {},
   "outputs": [],
   "source": []
  },
  {
   "cell_type": "code",
   "execution_count": 2,
   "metadata": {},
   "outputs": [
    {
     "data": {
      "text/plain": [
       "<spacy.pipeline.sentencizer.Sentencizer at 0x2b62e44f3c80>"
      ]
     },
     "execution_count": 2,
     "metadata": {},
     "output_type": "execute_result"
    }
   ],
   "source": [
    "nlp = English()\n",
    "nlp.add_pipe(\"sentencizer\")"
   ]
  },
  {
   "cell_type": "code",
   "execution_count": 4,
   "metadata": {},
   "outputs": [],
   "source": [
    "def permute_sent(sents):\n",
    "    out = tokenizer.encode_plus(sents,add_special_tokens=True, max_length=102,truncation=True,return_tensors=\"np\")['input_ids']\n",
    "    segmented = tokenizer.decode(out[0],skip_special_tokens=True)\n",
    "    doc = nlp(segmented)\n",
    "    sents = shuffle([i.text for i in doc.sents])\n",
    "    return ' '.join(sents)"
   ]
  },
  {
   "cell_type": "code",
   "execution_count": 5,
   "metadata": {},
   "outputs": [
    {
     "name": "stderr",
     "output_type": "stream",
     "text": [
      "100%|██████████| 398640/398640 [11:25<00:00, 581.71it/s]\n",
      "100%|██████████| 66456/66456 [01:52<00:00, 588.45it/s]\n",
      "100%|██████████| 199320/199320 [05:55<00:00, 560.59it/s]\n"
     ]
    }
   ],
   "source": [
    "path = '/gpfs/accounts/lingjzhu_root/lingjzhu1/lingjzhu/authorship/'\n",
    "files = ['reddit_train_contrastive','reddit_dev_contrastive','reddit_test_contrastive']\n",
    "\n",
    "for f in files:\n",
    "    with open(os.path.join(path,f+'_spermute'),'w') as out:\n",
    "        with open(os.path.join(path,f),'r') as file:\n",
    "            for line in tqdm(file.readlines()):\n",
    "                line = line.strip().split('\\t\\t')\n",
    "                a = permute_sent(line[2])\n",
    "                b = permute_sent(line[3])\n",
    "                line[2] = a\n",
    "                line[3] = b\n",
    "                out.write('\\t\\t'.join(line))"
   ]
  }
 ],
 "metadata": {
  "kernelspec": {
   "display_name": "Python 3",
   "language": "python",
   "name": "python3"
  },
  "language_info": {
   "codemirror_mode": {
    "name": "ipython",
    "version": 3
   },
   "file_extension": ".py",
   "mimetype": "text/x-python",
   "name": "python",
   "nbconvert_exporter": "python",
   "pygments_lexer": "ipython3",
   "version": "3.8.3"
  }
 },
 "nbformat": 4,
 "nbformat_minor": 4
}
